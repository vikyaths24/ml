{
  "nbformat": 4,
  "nbformat_minor": 0,
  "metadata": {
    "colab": {
      "name": "content_v1.ipynb",
      "provenance": [],
      "collapsed_sections": []
    },
    "kernelspec": {
      "name": "python3",
      "display_name": "Python 3"
    }
  },
  "cells": [
    {
      "cell_type": "code",
      "metadata": {
        "id": "XVhiM7ScF2Yn",
        "colab_type": "code",
        "outputId": "0dafb27d-aa2a-4c1b-f7a5-045da2471727",
        "colab": {
          "base_uri": "https://localhost:8080/",
          "height": 224
        }
      },
      "source": [
        "!pip install rake_nltk"
      ],
      "execution_count": 0,
      "outputs": [
        {
          "output_type": "stream",
          "text": [
            "Collecting rake_nltk\n",
            "  Downloading https://files.pythonhosted.org/packages/8e/c4/b4ff57e541ac5624ad4b20b89c2bafd4e98f29fd83139f3a81858bdb3815/rake_nltk-1.0.4.tar.gz\n",
            "Requirement already satisfied: nltk in /usr/local/lib/python3.6/dist-packages (from rake_nltk) (3.2.5)\n",
            "Requirement already satisfied: six in /usr/local/lib/python3.6/dist-packages (from nltk->rake_nltk) (1.12.0)\n",
            "Building wheels for collected packages: rake-nltk\n",
            "  Building wheel for rake-nltk (setup.py) ... \u001b[?25l\u001b[?25hdone\n",
            "  Created wheel for rake-nltk: filename=rake_nltk-1.0.4-py2.py3-none-any.whl size=7821 sha256=c23a5667d97ee1bed08d3072965365a98ac939b0667eaa0f890bfb50fa8ad791\n",
            "  Stored in directory: /root/.cache/pip/wheels/ef/92/fc/271b3709e71a96ffe934b27818946b795ac6b9b8ff8682483f\n",
            "Successfully built rake-nltk\n",
            "Installing collected packages: rake-nltk\n",
            "Successfully installed rake-nltk-1.0.4\n"
          ],
          "name": "stdout"
        }
      ]
    },
    {
      "cell_type": "code",
      "metadata": {
        "id": "HPzCNiYlepwv",
        "colab_type": "code",
        "colab": {}
      },
      "source": [
        "import pandas as pd\n",
        "from rake_nltk import Rake\n",
        "import numpy as np\n",
        "from sklearn.metrics.pairwise import cosine_similarity\n",
        "from sklearn.feature_extraction.text import TfidfVectorizer,CountVectorizer"
      ],
      "execution_count": 0,
      "outputs": []
    },
    {
      "cell_type": "code",
      "metadata": {
        "id": "Jri5EsQfeD10",
        "colab_type": "code",
        "outputId": "855c2aa1-e794-4f18-b962-ca32a2dc6cb9",
        "colab": {
          "base_uri": "https://localhost:8080/",
          "height": 34
        }
      },
      "source": [
        "product = pd.read_csv('/content/newflipkart1.csv')\n",
        "product.shape"
      ],
      "execution_count": 0,
      "outputs": [
        {
          "output_type": "execute_result",
          "data": {
            "text/plain": [
              "(19998, 3)"
            ]
          },
          "metadata": {
            "tags": []
          },
          "execution_count": 3
        }
      ]
    },
    {
      "cell_type": "code",
      "metadata": {
        "id": "8zJpqXYKgPzY",
        "colab_type": "code",
        "outputId": "5fd7c985-1903-40e7-df19-16dae453a6f8",
        "colab": {
          "base_uri": "https://localhost:8080/",
          "height": 34
        }
      },
      "source": [
        "product = product.dropna()\n",
        "#na_free = product.dropna()\n",
        "#only_na = product[np.invert(product.index.isin(na_free.index))]\n",
        "product.shape"
      ],
      "execution_count": 0,
      "outputs": [
        {
          "output_type": "execute_result",
          "data": {
            "text/plain": [
              "(19998, 3)"
            ]
          },
          "metadata": {
            "tags": []
          },
          "execution_count": 4
        }
      ]
    },
    {
      "cell_type": "code",
      "metadata": {
        "id": "Be5aNabugZXR",
        "colab_type": "code",
        "outputId": "07d5a58f-3faf-4d58-e835-90e50e66a8da",
        "colab": {
          "base_uri": "https://localhost:8080/",
          "height": 34
        }
      },
      "source": [
        "product1 = product[product.notnull()].copy()\n",
        "product1[\"description\"].head(10)\n",
        "product1.shape"
      ],
      "execution_count": 0,
      "outputs": [
        {
          "output_type": "execute_result",
          "data": {
            "text/plain": [
              "(19998, 3)"
            ]
          },
          "metadata": {
            "tags": []
          },
          "execution_count": 5
        }
      ]
    },
    {
      "cell_type": "code",
      "metadata": {
        "id": "DNIZxuUeig-L",
        "colab_type": "code",
        "colab": {}
      },
      "source": [
        "product1['Key_words'] = \"\"\n",
        "\n",
        "\n",
        "for index, row in product1.iterrows():\n",
        "    description_var = row['description']\n",
        "\n",
        "    r = Rake()\n",
        "    r.extract_keywords_from_text(description_var)\n",
        "    key_words_dict_scores = r.get_word_degrees()\n",
        "\n",
        "    row['Key_words'] = list(key_words_dict_scores.keys())\n",
        "    row['Key_words'] = \" \".join(row['Key_words'])\n",
        "\n",
        "# dropping the description column\n",
        "product1.drop(columns = ['description'], inplace = True)\n"
      ],
      "execution_count": 0,
      "outputs": []
    },
    {
      "cell_type": "code",
      "metadata": {
        "id": "xg9z0hNXji0z",
        "colab_type": "code",
        "outputId": "682ee21b-5ae7-43db-e627-8c7ce1587e56",
        "colab": {
          "base_uri": "https://localhost:8080/",
          "height": 992
        }
      },
      "source": [
        "product1.head(20)"
      ],
      "execution_count": 0,
      "outputs": [
        {
          "output_type": "execute_result",
          "data": {
            "text/html": [
              "<div>\n",
              "<style scoped>\n",
              "    .dataframe tbody tr th:only-of-type {\n",
              "        vertical-align: middle;\n",
              "    }\n",
              "\n",
              "    .dataframe tbody tr th {\n",
              "        vertical-align: top;\n",
              "    }\n",
              "\n",
              "    .dataframe thead th {\n",
              "        text-align: right;\n",
              "    }\n",
              "</style>\n",
              "<table border=\"1\" class=\"dataframe\">\n",
              "  <thead>\n",
              "    <tr style=\"text-align: right;\">\n",
              "      <th></th>\n",
              "      <th>product_name</th>\n",
              "      <th>pid</th>\n",
              "      <th>Key_words</th>\n",
              "    </tr>\n",
              "  </thead>\n",
              "  <tbody>\n",
              "    <tr>\n",
              "      <th>0</th>\n",
              "      <td>Alisha Solid Women's Cycling Shorts</td>\n",
              "      <td>SRTEH2FF9KEDEFGF</td>\n",
              "      <td>lukewarm water 3 fabric cotton lycra type cycl...</td>\n",
              "    </tr>\n",
              "    <tr>\n",
              "      <th>1</th>\n",
              "      <td>FabHomeDecor Fabric Double Sofa Bed</td>\n",
              "      <td>SBEEH3QGU7MFYJFY</td>\n",
              "      <td>sofas periodically storage included replaced b...</td>\n",
              "    </tr>\n",
              "    <tr>\n",
              "      <th>2</th>\n",
              "      <td>AW Bellies</td>\n",
              "      <td>SHOEH4GRSUBJGZXE</td>\n",
              "      <td>499 material use shoe bags clean cloth specifi...</td>\n",
              "    </tr>\n",
              "    <tr>\n",
              "      <th>3</th>\n",
              "      <td>Alisha Solid Women's Cycling Shorts</td>\n",
              "      <td>SRTEH2F6HUZMQ6SJ</td>\n",
              "      <td>lukewarm water women specifications bleach add...</td>\n",
              "    </tr>\n",
              "    <tr>\n",
              "      <th>4</th>\n",
              "      <td>Sicons All Purpose Arnica Dog Shampoo</td>\n",
              "      <td>PSOEH3ZYDMSYARJ5</td>\n",
              "      <td>df purpose arnica dog shampoo specifications 1...</td>\n",
              "    </tr>\n",
              "    <tr>\n",
              "      <th>5</th>\n",
              "      <td>Eternal Gandhi Super Series Crystal Paper Weig...</td>\n",
              "      <td>PWTEB7H2E4KCYUE3</td>\n",
              "      <td>general model name gandhi paper weight mark v ...</td>\n",
              "    </tr>\n",
              "    <tr>\n",
              "      <th>6</th>\n",
              "      <td>Alisha Solid Women's Cycling Shorts</td>\n",
              "      <td>SRTEH2FVVKRBAXHB</td>\n",
              "      <td>lukewarm water alisha solid women specificatio...</td>\n",
              "    </tr>\n",
              "    <tr>\n",
              "      <th>7</th>\n",
              "      <td>FabHomeDecor Fabric Double Sofa Bed</td>\n",
              "      <td>SBEEH3QGYGHFUEXN</td>\n",
              "      <td>sofas periodically storage included replaced b...</td>\n",
              "    </tr>\n",
              "    <tr>\n",
              "      <th>8</th>\n",
              "      <td>dilli bazaaar Bellies, Corporate Casuals, Casuals</td>\n",
              "      <td>SHOEH3DZBFR88SCK</td>\n",
              "      <td>party dilli bazaaar bellies pink heel height 0...</td>\n",
              "    </tr>\n",
              "    <tr>\n",
              "      <th>9</th>\n",
              "      <td>Alisha Solid Women's Cycling Shorts</td>\n",
              "      <td>SRTEH2FVUHAAVH9X</td>\n",
              "      <td>lukewarm water women specifications 4 fabric c...</td>\n",
              "    </tr>\n",
              "    <tr>\n",
              "      <th>10</th>\n",
              "      <td>Ladela Bellies</td>\n",
              "      <td>SHOEH4KM2W3Z6EH5</td>\n",
              "      <td>best bellies key features black women shoe det...</td>\n",
              "    </tr>\n",
              "    <tr>\n",
              "      <th>11</th>\n",
              "      <td>Carrel Printed Women's</td>\n",
              "      <td>SWIEHF3EF5PZAZUY</td>\n",
              "      <td>fabric shade classy caressing swimwear strivin...</td>\n",
              "    </tr>\n",
              "    <tr>\n",
              "      <th>12</th>\n",
              "      <td>Sicons All Purpose Tea Tree Dog Shampoo</td>\n",
              "      <td>PSOEH3ZYYFETGCCD</td>\n",
              "      <td>purpose tea tree dog shampoo df specifications...</td>\n",
              "    </tr>\n",
              "    <tr>\n",
              "      <th>13</th>\n",
              "      <td>Alisha Solid Women's Cycling Shorts</td>\n",
              "      <td>SRTEH2FGBDJGX8FW</td>\n",
              "      <td>lukewarm water 3 fabric cotton lycra type cycl...</td>\n",
              "    </tr>\n",
              "    <tr>\n",
              "      <th>14</th>\n",
              "      <td>Freelance Vacuum Bottles 350 ml Bottle</td>\n",
              "      <td>BOTEGYTZ2T6WUJMM</td>\n",
              "      <td>green specifications one packet box number con...</td>\n",
              "    </tr>\n",
              "    <tr>\n",
              "      <th>15</th>\n",
              "      <td>Alisha Solid Women's Cycling Shorts</td>\n",
              "      <td>SRTEH2FECMGNZJXJ</td>\n",
              "      <td>lukewarm water 3 fabric cotton lycra type cycl...</td>\n",
              "    </tr>\n",
              "    <tr>\n",
              "      <th>16</th>\n",
              "      <td>FabHomeDecor Fabric Double Sofa Bed</td>\n",
              "      <td>SBEEH3QGAYAEPRCG</td>\n",
              "      <td>sofas periodically storage included replaced b...</td>\n",
              "    </tr>\n",
              "    <tr>\n",
              "      <th>17</th>\n",
              "      <td>Style Foot Bellies</td>\n",
              "      <td>SHOEH4FSHEDEMVTM</td>\n",
              "      <td>style foot bellies price specifications key fe...</td>\n",
              "    </tr>\n",
              "    <tr>\n",
              "      <th>18</th>\n",
              "      <td>Carrel Printed Women's</td>\n",
              "      <td>SWIEHF3H7WG6VGMR</td>\n",
              "      <td>999 max fabric shade classy caressing swimwear...</td>\n",
              "    </tr>\n",
              "    <tr>\n",
              "      <th>19</th>\n",
              "      <td>FabHomeDecor Fabric Double Sofa Bed</td>\n",
              "      <td>SBEEH3QGWRGG3J6Q</td>\n",
              "      <td>sofas periodically storage included replaced b...</td>\n",
              "    </tr>\n",
              "  </tbody>\n",
              "</table>\n",
              "</div>"
            ],
            "text/plain": [
              "                                         product_name  ...                                          Key_words\n",
              "0                 Alisha Solid Women's Cycling Shorts  ...  lukewarm water 3 fabric cotton lycra type cycl...\n",
              "1                 FabHomeDecor Fabric Double Sofa Bed  ...  sofas periodically storage included replaced b...\n",
              "2                                          AW Bellies  ...  499 material use shoe bags clean cloth specifi...\n",
              "3                 Alisha Solid Women's Cycling Shorts  ...  lukewarm water women specifications bleach add...\n",
              "4               Sicons All Purpose Arnica Dog Shampoo  ...  df purpose arnica dog shampoo specifications 1...\n",
              "5   Eternal Gandhi Super Series Crystal Paper Weig...  ...  general model name gandhi paper weight mark v ...\n",
              "6                 Alisha Solid Women's Cycling Shorts  ...  lukewarm water alisha solid women specificatio...\n",
              "7                 FabHomeDecor Fabric Double Sofa Bed  ...  sofas periodically storage included replaced b...\n",
              "8   dilli bazaaar Bellies, Corporate Casuals, Casuals  ...  party dilli bazaaar bellies pink heel height 0...\n",
              "9                 Alisha Solid Women's Cycling Shorts  ...  lukewarm water women specifications 4 fabric c...\n",
              "10                                     Ladela Bellies  ...  best bellies key features black women shoe det...\n",
              "11                             Carrel Printed Women's  ...  fabric shade classy caressing swimwear strivin...\n",
              "12            Sicons All Purpose Tea Tree Dog Shampoo  ...  purpose tea tree dog shampoo df specifications...\n",
              "13                Alisha Solid Women's Cycling Shorts  ...  lukewarm water 3 fabric cotton lycra type cycl...\n",
              "14             Freelance Vacuum Bottles 350 ml Bottle  ...  green specifications one packet box number con...\n",
              "15                Alisha Solid Women's Cycling Shorts  ...  lukewarm water 3 fabric cotton lycra type cycl...\n",
              "16                FabHomeDecor Fabric Double Sofa Bed  ...  sofas periodically storage included replaced b...\n",
              "17                                 Style Foot Bellies  ...  style foot bellies price specifications key fe...\n",
              "18                             Carrel Printed Women's  ...  999 max fabric shade classy caressing swimwear...\n",
              "19                FabHomeDecor Fabric Double Sofa Bed  ...  sofas periodically storage included replaced b...\n",
              "\n",
              "[20 rows x 3 columns]"
            ]
          },
          "metadata": {
            "tags": []
          },
          "execution_count": 7
        }
      ]
    },
    {
      "cell_type": "code",
      "metadata": {
        "id": "KCoWEyBtnMNB",
        "colab_type": "code",
        "colab": {}
      },
      "source": [
        "vectorizer = TfidfVectorizer(stop_words='english')\n",
        "tfid_matrix = vectorizer.fit_transform(product1[\"Key_words\"])\n",
        "\n",
        "# generating the cosine similarity matrix\n",
        "cosine_sim = cosine_similarity(tfid_matrix, tfid_matrix)"
      ],
      "execution_count": 0,
      "outputs": []
    },
    {
      "cell_type": "code",
      "metadata": {
        "id": "6UJhTZ62uTUT",
        "colab_type": "code",
        "colab": {}
      },
      "source": [
        "indices = pd.Series(product1[\"product_name\"])\n",
        "\n",
        "def recommendations(title, cosine_sim = cosine_sim):\n",
        "\n",
        "    recommended_movies = []\n",
        "\n",
        "    idx = indices[indices == title].index[0]\n",
        "\n",
        "    score_series = pd.Series(cosine_sim[idx]).sort_values(ascending = False)\n",
        "\n",
        "    top_10_indexes = list(score_series.iloc[1:11].index)\n",
        "    \n",
        "    recommen_prod_index = []\n",
        "\n",
        "    # populating the list with the titles of the best 10 matching products\n",
        "    for i in top_10_indexes:\n",
        "        recommen_prod_index.append(list(product1.index)[i])\n",
        "\n",
        "    recommen_prod_names = []\n",
        "\n",
        "    for i in recommen_prod_index:\n",
        "      recommen_prod_names.append(product1.iloc[[i],[0]])\n",
        "      \n",
        "    return recommen_prod_names "
      ],
      "execution_count": 0,
      "outputs": []
    },
    {
      "cell_type": "code",
      "metadata": {
        "id": "EuPzl3qJA718",
        "colab_type": "code",
        "outputId": "87802089-74a3-40ae-cf30-467243da71ad",
        "colab": {
          "base_uri": "https://localhost:8080/",
          "height": 357
        }
      },
      "source": [
        "recommendations('''FabHomeDecor Fabric Double Sofa Bed''')"
      ],
      "execution_count": 0,
      "outputs": [
        {
          "output_type": "execute_result",
          "data": {
            "text/plain": [
              "[                          product_name\n",
              " 7  FabHomeDecor Fabric Double Sofa Bed,\n",
              "                            product_name\n",
              " 16  FabHomeDecor Fabric Double Sofa Bed,\n",
              "                            product_name\n",
              " 19  FabHomeDecor Fabric Double Sofa Bed,\n",
              "                         product_name\n",
              " 9945  Handiana Solid Wood Dining Set,\n",
              "                         product_name\n",
              " 9942  Handiana Solid Wood Dining Set,\n",
              "                         product_name\n",
              " 9950  Handiana Solid Wood Dining Set,\n",
              "                                      product_name\n",
              " 17875  Stellar Engineered Wood Entertainment Unit,\n",
              "                                   product_name\n",
              " 18648  Ethnic Handicrafts Solid Wood Queen Bed,\n",
              "                                    product_name\n",
              " 18668  Ethnic Handicrafts Solid Wood Single Bed,\n",
              "                                   product_name\n",
              " 19081  @home Annulus Solid Wood Dressing Table]"
            ]
          },
          "metadata": {
            "tags": []
          },
          "execution_count": 15
        }
      ]
    },
    {
      "cell_type": "code",
      "metadata": {
        "id": "94cMn8fiBU4Q",
        "colab_type": "code",
        "colab": {}
      },
      "source": [
        ""
      ],
      "execution_count": 0,
      "outputs": []
    },
    {
      "cell_type": "code",
      "metadata": {
        "id": "pH-YOSi5BU1j",
        "colab_type": "code",
        "colab": {}
      },
      "source": [
        ""
      ],
      "execution_count": 0,
      "outputs": []
    },
    {
      "cell_type": "code",
      "metadata": {
        "id": "jp9AjUWFBUvF",
        "colab_type": "code",
        "colab": {}
      },
      "source": [
        ""
      ],
      "execution_count": 0,
      "outputs": []
    },
    {
      "cell_type": "code",
      "metadata": {
        "id": "HlWylm2fBUrz",
        "colab_type": "code",
        "colab": {}
      },
      "source": [
        ""
      ],
      "execution_count": 0,
      "outputs": []
    },
    {
      "cell_type": "code",
      "metadata": {
        "id": "HNr8IFOrBUnx",
        "colab_type": "code",
        "colab": {}
      },
      "source": [
        ""
      ],
      "execution_count": 0,
      "outputs": []
    },
    {
      "cell_type": "code",
      "metadata": {
        "id": "wxMk6LSwBUc5",
        "colab_type": "code",
        "colab": {}
      },
      "source": [
        ""
      ],
      "execution_count": 0,
      "outputs": []
    },
    {
      "cell_type": "code",
      "metadata": {
        "id": "zWjNhLtxELpT",
        "colab_type": "code",
        "colab": {}
      },
      "source": [
        "import pickle\n",
        "pickle.dump(cosine_similarity, open('content_Filtering_v1.pickle', 'wb'))"
      ],
      "execution_count": 0,
      "outputs": []
    },
    {
      "cell_type": "code",
      "metadata": {
        "id": "I1ZSFHqkhU6i",
        "colab_type": "code",
        "colab": {}
      },
      "source": [
        "import pickle\n",
        "model = pickle.load(open('content_Filtering_v1.pickle', 'rb'))"
      ],
      "execution_count": 0,
      "outputs": []
    },
    {
      "cell_type": "code",
      "metadata": {
        "id": "pA4_VThhiGCR",
        "colab_type": "code",
        "colab": {}
      },
      "source": [
        "result = model([2000][15])"
      ],
      "execution_count": 0,
      "outputs": []
    },
    {
      "cell_type": "code",
      "metadata": {
        "id": "jf_dEd-8G5vY",
        "colab_type": "code",
        "colab": {}
      },
      "source": [
        ""
      ],
      "execution_count": 0,
      "outputs": []
    }
  ]
}